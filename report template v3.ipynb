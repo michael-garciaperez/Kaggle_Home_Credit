{
 "cells": [
  {
   "cell_type": "code",
   "execution_count": 1,
   "id": "57a4abb0",
   "metadata": {},
   "outputs": [],
   "source": [
    "# standard library imports\n",
    "import gc\n",
    "import os\n",
    "import random\n",
    "import sys\n",
    "import warnings\n",
    "\n",
    "warnings.filterwarnings(\"ignore\", category=DeprecationWarning)\n",
    "warnings.filterwarnings(\"ignore\", category=UserWarning)\n",
    "warnings.filterwarnings(\"ignore\", category=FutureWarning)\n",
    "\n",
    "# third party imports\n",
    "import pandas as pd\n",
    "import numpy as np\n",
    "from matplotlib import pyplot as plt\n",
    "import polars as pl\n",
    "from sklearn.base import BaseEstimator, TransformerMixin\n",
    "from sklearn.linear_model import LogisticRegression\n",
    "from sklearn.metrics import (\n",
    "    roc_auc_score,\n",
    "    f1_score,\n",
    "    log_loss,\n",
    "    SCORERS, \n",
    "    get_scorer,\n",
    "    classification_report, \n",
    "    ConfusionMatrixDisplay, \n",
    ")\n",
    "from sklearn.model_selection import GridSearchCV, train_test_split\n",
    "from sklearn.pipeline import Pipeline\n",
    "from sklearn.preprocessing import FunctionTransformer, StandardScaler, OneHotEncoder\n",
    "from sklearn.compose import ColumnTransformer\n",
    "from sklearn.svm import LinearSVC\n",
    "\n",
    "# will probably need these later:\n",
    "\n",
    "# import torch\n",
    "# from adapters import AutoAdapterModel\n",
    "# from joblib import dump, load\n",
    "# from pytorch_lightning import Trainer, LightningModule\n",
    "\n",
    "# from torch.utils.data import DataLoader, Dataset\n",
    "# from tqdm import tqdm\n",
    "# from transformers import (\n",
    "#     AdamW, \n",
    "#     AutoTokenizer, \n",
    "#     RobertaForSequenceClassification, \n",
    "#     get_linear_schedule_with_warmup\n",
    "# )\n",
    "\n",
    "dataPath = \"\""
   ]
  },
  {
   "cell_type": "code",
   "execution_count": 2,
   "id": "efe58409",
   "metadata": {},
   "outputs": [],
   "source": [
    "df = pd.read_csv(\"csv_files/train/train_base.csv\")"
   ]
  },
  {
   "cell_type": "code",
   "execution_count": 3,
   "id": "d8d49fd2",
   "metadata": {},
   "outputs": [
    {
     "data": {
      "text/html": [
       "<div>\n",
       "<style scoped>\n",
       "    .dataframe tbody tr th:only-of-type {\n",
       "        vertical-align: middle;\n",
       "    }\n",
       "\n",
       "    .dataframe tbody tr th {\n",
       "        vertical-align: top;\n",
       "    }\n",
       "\n",
       "    .dataframe thead th {\n",
       "        text-align: right;\n",
       "    }\n",
       "</style>\n",
       "<table border=\"1\" class=\"dataframe\">\n",
       "  <thead>\n",
       "    <tr style=\"text-align: right;\">\n",
       "      <th></th>\n",
       "      <th>case_id</th>\n",
       "      <th>date_decision</th>\n",
       "      <th>MONTH</th>\n",
       "      <th>WEEK_NUM</th>\n",
       "      <th>target</th>\n",
       "    </tr>\n",
       "  </thead>\n",
       "  <tbody>\n",
       "    <tr>\n",
       "      <th>0</th>\n",
       "      <td>0</td>\n",
       "      <td>2019-01-03</td>\n",
       "      <td>201901</td>\n",
       "      <td>0</td>\n",
       "      <td>0</td>\n",
       "    </tr>\n",
       "    <tr>\n",
       "      <th>1</th>\n",
       "      <td>1</td>\n",
       "      <td>2019-01-03</td>\n",
       "      <td>201901</td>\n",
       "      <td>0</td>\n",
       "      <td>0</td>\n",
       "    </tr>\n",
       "    <tr>\n",
       "      <th>2</th>\n",
       "      <td>2</td>\n",
       "      <td>2019-01-04</td>\n",
       "      <td>201901</td>\n",
       "      <td>0</td>\n",
       "      <td>0</td>\n",
       "    </tr>\n",
       "    <tr>\n",
       "      <th>3</th>\n",
       "      <td>3</td>\n",
       "      <td>2019-01-03</td>\n",
       "      <td>201901</td>\n",
       "      <td>0</td>\n",
       "      <td>0</td>\n",
       "    </tr>\n",
       "    <tr>\n",
       "      <th>4</th>\n",
       "      <td>4</td>\n",
       "      <td>2019-01-04</td>\n",
       "      <td>201901</td>\n",
       "      <td>0</td>\n",
       "      <td>1</td>\n",
       "    </tr>\n",
       "  </tbody>\n",
       "</table>\n",
       "</div>"
      ],
      "text/plain": [
       "   case_id date_decision   MONTH  WEEK_NUM  target\n",
       "0        0    2019-01-03  201901         0       0\n",
       "1        1    2019-01-03  201901         0       0\n",
       "2        2    2019-01-04  201901         0       0\n",
       "3        3    2019-01-03  201901         0       0\n",
       "4        4    2019-01-04  201901         0       1"
      ]
     },
     "execution_count": 3,
     "metadata": {},
     "output_type": "execute_result"
    }
   ],
   "source": [
    "df.head()"
   ]
  },
  {
   "cell_type": "code",
   "execution_count": 4,
   "id": "f6f90c43",
   "metadata": {},
   "outputs": [],
   "source": [
    "# simple trained and fit model used just to make sure report works\n",
    "\n",
    "X_train, y_train = df.drop(columns=[\"target\"]), df[\"target\"]\n",
    "\n",
    "numeric_transformer = Pipeline(steps=[\n",
    "    ('scaler', StandardScaler())])\n",
    "\n",
    "categorical_transformer = OneHotEncoder(handle_unknown='ignore')\n",
    "\n",
    "preprocessor = ColumnTransformer(\n",
    "    transformers=[\n",
    "        ('num', numeric_transformer,  X_train.select_dtypes(exclude=\"object\").columns),\n",
    "        ('cat', categorical_transformer,  X_train.select_dtypes(include=\"object\").columns)])\n",
    "\n",
    "pipe = Pipeline(\n",
    "    [\n",
    "        ('preprocessor', preprocessor),\n",
    "        (\"clf\", LogisticRegression(random_state=0, max_iter=1000)),\n",
    "    ]\n",
    ")\n",
    "\n",
    "pipe.fit(X_train, y_train)\n",
    "\n",
    "y_pred = pipe.predict(X_train)"
   ]
  },
  {
   "cell_type": "code",
   "execution_count": 6,
   "id": "f568a1b2",
   "metadata": {},
   "outputs": [],
   "source": [
    "def generate_report(mdl, df, cols, extra_metrics=None):\n",
    "    '''Takes in a [what kind?] model as a string, pandas dataframe of a subset of the test data, \n",
    "    and list of columns to be used in the model.\n",
    "    If necessary, can include a list of other metrics to be outputted, but default is None.\n",
    "    Returns a dictionary of the following breakdown of scores: AUC, F1-Score, and any extra metrics\n",
    "    '''\n",
    "    # Load in a model we have trained and saved somewhere else in the repo\n",
    "#     model = load(os.path.join(MODELS_DIR, mdl))\n",
    "\n",
    "    # for now, we will be using a model trained in the notebook\n",
    "    model = mdl\n",
    "    X_test, y_test = df[cols], df[\"target\"]\n",
    "    y_pred = model.predict(X_test)\n",
    "    \n",
    "    res = dict()\n",
    "    res['AUC'] = roc_auc_score(y_test, y_pred)\n",
    "    res['Macro F-1'] = f1_score(y_test, y_pred, average='macro')\n",
    "        \n",
    "    for metric in extra_metrics:\n",
    "        if metric == 'log_loss':\n",
    "            res[metric] = log_loss(y_test, y_pred)\n",
    "            print(f\"Log Loss: {log_loss(y_test, y_pred)}\")\n",
    "        else:\n",
    "            res[metric] = get_scorer(metric)._score_func(y_test, y_pred)\n",
    "#         metric_func = getattr(locals()['__builtins__'], metric)\n",
    "            print(f\"{metric}: {get_scorer(metric)._score_func(y_test, y_pred)}\")\n",
    "        \n",
    "\n",
    "    # Results\n",
    "#     print(roc_auc_score(y_test, y_pred))\n",
    "    print(f\"AUC: {roc_auc_score(y_test, y_pred)}\")\n",
    "    print(f\"Macro-Averaged F1-Score: {f1_score(y_test, y_pred, average='macro')}\")\n",
    "\n",
    "    disp1 = ConfusionMatrixDisplay.from_predictions(y_test, y_pred, normalize=\"true\")\n",
    "    disp2 = ConfusionMatrixDisplay.from_predictions(y_test, y_pred, normalize=\"pred\")\n",
    "        \n",
    "    return res"
   ]
  },
  {
   "cell_type": "code",
   "execution_count": 7,
   "id": "3b1ebdce",
   "metadata": {},
   "outputs": [
    {
     "name": "stdout",
     "output_type": "stream",
     "text": [
      "Log Loss: 1.0858050385170126\n",
      "AUC: 0.5\n",
      "Macro-Averaged F1-Score: 0.4920151704109108\n"
     ]
    },
    {
     "data": {
      "text/plain": [
       "{'AUC': 0.5, 'Macro F-1': 0.4920151704109108, 'log_loss': 1.0858050385170126}"
      ]
     },
     "execution_count": 7,
     "metadata": {},
     "output_type": "execute_result"
    },
    {
     "data": {
      "image/png": "[encoded data removed]",
      "text/plain": [
       "<Figure size 640x480 with 2 Axes>"
      ]
     },
     "metadata": {},
     "output_type": "display_data"
    },
    {
     "data": {
      "image/png": "[encoded data removed]",
      "text/plain": [
       "<Figure size 640x480 with 2 Axes>"
      ]
     },
     "metadata": {},
     "output_type": "display_data"
    }
   ],
   "source": [
    "generate_report(pipe, df, ['case_id', 'date_decision', 'MONTH', 'WEEK_NUM'], ['log_loss'])"
   ]
  },
  {
   "cell_type": "code",
   "execution_count": null,
   "id": "6f700879",
   "metadata": {},
   "outputs": [],
   "source": []
  }
 ],
 "metadata": {
  "kernelspec": {
   "display_name": "Python 3 (ipykernel)",
   "language": "python",
   "name": "python3"
  },
  "language_info": {
   "codemirror_mode": {
    "name": "ipython",
    "version": 3
   },
   "file_extension": ".py",
   "mimetype": "text/x-python",
   "name": "python",
   "nbconvert_exporter": "python",
   "pygments_lexer": "ipython3",
   "version": "3.8.18"
  }
 },
 "nbformat": 4,
 "nbformat_minor": 5
}
